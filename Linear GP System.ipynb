{
 "cells": [
  {
   "cell_type": "markdown",
   "id": "19a648e2-2dff-437a-9cbf-ff00de62839e",
   "metadata": {},
   "source": [
    "# Linear GP System in Python\n",
    "## By: Nathan Haut\n",
    "\n",
    "### Implementation Notes\n",
    "\n",
    "This implementation evolves models of the form model = [node, node, node] where each node = [active?, operator, var/const1, var/const2].\n",
    "\n",
    "The default operators are protected division, addition, subtraction, and multiplication. More operators can easily be added by adding them to the ops list. \n",
    "\n",
    "I've implemented two different evolution variants. One that uses standard tournament selection and another that uses Pareto tournament selection. The tournament selection method uses just correlation as its fitness function. The Pareto tournament selection uses both correlation and model complexity as fitness metrics. The approach using Pareto tournament selection had to be modified to expect possibly multiple models be returned by each tournament rather than only one ever being returned. \n",
    "\n",
    "Both evolution functions expect 2 inputs and allow for several optional inputs. The required inputs are the input data and response data. The optional inputs are generations, crossover rate, mutation rate, population size, and plotting. The default parameters are:\n",
    " \n",
    "| Option | Default Settings |\n",
    "| --- | --- |\n",
    "| Generations | 100 |\n",
    "| Crossover Rate | 0.1 |\n",
    "| Mutation Rate | 0.9 | \n",
    "| Population Size | 300 |\n",
    "| Plot | True |\n",
    "\n",
    "Correlation was used as the fitness measure since it shrinks the search space significantly and speeds up the search process when compared to RMSE which is commonly used. The only drawback of using correlation is that models must be aligned before they are usable outside of the evolution. The alignment parameters can be determined using the **alignModel** function. The model can then be correctly run with the alignment parameters using the **alignedEvalProg** function. \n",
    "\n",
    "The **recombination** function uses 3 types of recombination: element swap, node spaw, and 1 point crossover. \n",
    "\n",
    "The **mutate** function utilizes element mutation and node mutation. The element mutation will change either the activation, operator, or variable/constant. The node mutation will change a node to a new randomly generated node. "
   ]
  },
  {
   "cell_type": "code",
   "execution_count": 50,
   "id": "010e97d7-8fdd-4c4d-aec6-6acb5a2d896b",
   "metadata": {},
   "outputs": [],
   "source": [
    "import random\n",
    "import matplotlib.pyplot as plt\n",
    "import numpy as np\n",
    "import math\n",
    "import copy\n",
    "from scipy.stats import pearsonr # for computing correlation\n",
    "from functools import reduce #for flattening lists\n",
    "from operator import concat  #for flattening lists\n",
    "data=np.linspace(0,2*math.pi,50)\n",
    "response=np.sin(data)\n",
    "def protectDiv(a,b):\n",
    "    \n",
    "    if (type(b)==int or type(b)==float or type(b)==np.float64) and b==0:\n",
    "        return a/1\n",
    "    if (type(b)==np.ndarray) and (0 in b):\n",
    "        return a/np.where(b==0,1,b)\n",
    "    return a/b\n",
    "def add(a,b):\n",
    "    return a+b\n",
    "def sub(a,b):\n",
    "    return a-b\n",
    "def mult(a,b):\n",
    "    return a*b\n",
    "# def sine(a,b):\n",
    "#     return np.sin(a)\n",
    "ops=[protectDiv,add,sub,mult]#,sine]\n",
    "def randomProg(): # generate random linear program\n",
    "    prog=[]\n",
    "    # [Activation Pos (0,1), Operator Pos, Var/Const1, Var/Const2]\n",
    "    prog.append([random.randrange(0,2,1),random.randrange(0,4,1),random.randrange(0,6,1),random.randrange(0,6,1)])\n",
    "    while random.randrange(0,10,1)<=8:\n",
    "        prog.append([random.randrange(0,2,1),random.randrange(0,4,1),random.randrange(0,6,1),random.randrange(0,6,1)])\n",
    "    return prog\n",
    "\n",
    "def evalProg(prog,data): # Interpreter\n",
    "        tmp=0\n",
    "        ops=[protectDiv,add,sub,mult]#,sine] #np.sin\n",
    "        varConst=[data,-2,-1,1,2]\n",
    "        for i in prog:\n",
    "            if i[0]==1: #if code line is active\n",
    "                if i[2]==5 and i[3]<5:\n",
    "                    tmp=ops[i[1]](tmp,varConst[i[3]])\n",
    "                elif i[3]==5 and i[2]<5:\n",
    "                    tmp=ops[i[1]](varConst[i[2]],tmp)\n",
    "                elif i[3]==5 and i[2]==5:\n",
    "                    tmp = ops[i[1]](tmp,tmp)\n",
    "                else:\n",
    "                    tmp = ops[i[1]](varConst[i[2]],varConst[i[3]])\n",
    "            #print(tmp)\n",
    "        if type(tmp)==float or type(tmp)==int:\n",
    "            tmp=np.full(len(data),tmp)\n",
    "        return tmp\n",
    "            \n",
    "def fitness(prog,data,response): # Fitness function using correlation\n",
    "    fit=1-pearsonr(evalProg(prog,data),response)[0]**2  # 1-R^2\n",
    "    if math.isnan(fit):\n",
    "        return 1 # If nan return 1 as fitness\n",
    "    return fit   # Else return actual fitness 1-R^2\n",
    "\n",
    "def mseFit(prog,data,response): # Fitness function using MSE\n",
    "    return np.mean((evalProg(prog,data)-response)**2)\n",
    "    \n",
    "def mutate(prog,varConst): # Mutation function\n",
    "    mutantProg=copy.deepcopy(prog)\n",
    "    nodeOrPart=random.randrange(0,2,1)\n",
    "    node=random.randrange(0,len(prog))\n",
    "    pos=random.randrange(0,len(prog[node]))\n",
    "    if nodeOrPart==0:\n",
    "        if pos==0:\n",
    "            mutantProg[node][pos]=random.randrange(0,2,1) # Change activation\n",
    "        elif pos==1:\n",
    "            mutantProg[node][pos]=random.randrange(0,len(ops),1) # Change operator\n",
    "        else:\n",
    "            mutantProg[node][pos]=random.randrange(0,len(varConst)+1,1) # Change var/const\n",
    "    else:\n",
    "        mutantProg[node]=randomProg()[0].copy() # Change node\n",
    "    return mutantProg\n",
    "\n",
    "def recombination(prog1,prog2): # Recombination function\n",
    "    receivingParent=random.randrange(0,2,1)\n",
    "    donorParent=1-receivingParent\n",
    "    newProg=copy.deepcopy([prog1,prog2][receivingParent])\n",
    "    donor=copy.deepcopy([prog1,prog2][donorParent])\n",
    "    nodeOrInstruction=random.randrange(0,3,1)\n",
    "    node1=random.randrange(0,len(newProg),1)\n",
    "    node2=random.randrange(0,len(donor),1)\n",
    "    part=random.randrange(0,4,1)\n",
    "    if nodeOrInstruction==0: #Node swap\n",
    "        newProg[node1]=donor[node2].copy()\n",
    "    elif nodeOrInstruction==1: #Element swap\n",
    "        newProg[node1][part]=donor[node2][part]\n",
    "    else:                      # 1 Pt Crossover\n",
    "        newProg[node1:]=copy.deepcopy(donor[node2:])\n",
    "    return newProg\n",
    "\n",
    "def tournamentSelect(pop,data,response):\n",
    "    fitnesses=[fitness(i,data,response) for i in pop]\n",
    "    bestLoc=np.argmin(fitnesses)\n",
    "    winner=copy.deepcopy(pop[bestLoc])\n",
    "    return winner\n",
    "\n",
    "def evolve(data,response,generations=100,px=0.1,pm=0.9,popSize=300,plot=True): # evolution using standard tournament selection\n",
    "    population=[randomProg() for i in range(popSize)]\n",
    "    fitness_list=[]\n",
    "    pop=copy.deepcopy(population)\n",
    "    for i in range(generations):\n",
    "        mutateIndividuals=[mutate(tournamentSelect(random.sample(pop,2),data,response),[data,-2,-1,1,2]) for i in range(int(pm*popSize))]\n",
    "        crossoverIndividuals=[recombination(tournamentSelect(random.sample(pop,2),data,response),tournamentSelect(random.sample(pop,2),data,response)) for i in range(int(px*popSize))]\n",
    "        best=copy.deepcopy(tournamentSelect(pop,data,response))\n",
    "        pop=[]\n",
    "        [pop.append(copy.deepcopy(i)) for i in mutateIndividuals]\n",
    "        [pop.append(copy.deepcopy(i)) for i in crossoverIndividuals]\n",
    "        pop.append(best)\n",
    "        fitness_list.append(fitness(best,data,response))\n",
    "    best=tournamentSelect(pop,data,response)\n",
    "    if plot:\n",
    "        plt.yscale(\"log\")\n",
    "        plt.plot(fitness_list)\n",
    "        plt.show()\n",
    "    return best, pop\n",
    "\n",
    "def paretoTournament(pop,data,response): # selects the Pareto front of a model set\n",
    "    pFront=[]\n",
    "    fitnesses=np.array([fitness(i,data,response) for i in pop])\n",
    "    complexities=np.array([len(i) for i in pop])\n",
    "    fitSort=np.argsort(fitnesses)\n",
    "    cSort=np.argsort(complexities)\n",
    "    popFitSort=np.array(pop,dtype=object)[fitSort]\n",
    "    popCSort=np.array(pop,dtype=object)[cSort]\n",
    "    popFitCArgs=np.argsort([len(i) for i in popFitSort])\n",
    "    i=0\n",
    "    while len(popCSort)>0:\n",
    "        if popFitCArgs[i]<len(popCSort):\n",
    "            pFront.append(copy.deepcopy(popFitSort.tolist()[i]))\n",
    "            popCSort=np.array(popCSort)[:popFitCArgs[i]]\n",
    "        i+=1\n",
    "    return pFront\n",
    "\n",
    "def paretoEvolve(data,response,generations=100,px=0.1,pm=0.9,popSize=300,plot=True): # evolution using Pareto tournaments\n",
    "    population=[randomProg() for i in range(popSize)]\n",
    "    fitness_list=[]\n",
    "    pop=copy.deepcopy(population)\n",
    "    for i in range(generations):\n",
    "        toMutate=reduce(concat,[paretoTournament(random.sample(pop,5),data,response) for i in range(int(pm*popSize))])\n",
    "        mutateIndividuals=[mutate(random.sample(toMutate,1)[0],[data,-2,-1,1,2]) for i in range(int(pm*popSize))]\n",
    "        toCross=reduce(concat,[paretoTournament(random.sample(pop,5),data,response) for i in range(int(px*popSize))])\n",
    "        crossoverIndividuals=[recombination(random.sample(toCross,1)[0],random.sample(toCross,1)[0]) for i in range(int(px*popSize))]\n",
    "        best=copy.deepcopy(paretoTournament(pop,data,response))\n",
    "        pop=[]\n",
    "        [pop.append(copy.deepcopy(i)) for i in mutateIndividuals]\n",
    "        [pop.append(copy.deepcopy(i)) for i in crossoverIndividuals]\n",
    "        [pop.append(copy.deepcopy(i)) for i in best]\n",
    "        fitness_list.append(fitness(best[0],data,response))\n",
    "    best=tournamentSelect(pop,data,response)\n",
    "    #align=np.polyfit(evalProg(best,data),response,1)\n",
    "    #best.append([1,3,5,align[0]])\n",
    "    #best.append([1,1,5,align[1]])\n",
    "    if plot:\n",
    "        plt.yscale(\"log\")\n",
    "        plt.plot(fitness_list)\n",
    "        plt.show()\n",
    "    return best, pop\n",
    "\n",
    "def alignModel(model, data, response): # computes alignment parameters for a model\n",
    "    align=np.polyfit(evalProg(best,data),response,1)\n",
    "    return align\n",
    "    \n",
    "def alignedEvalProg(model, data, alignment): # applies the alignment parameters to model evalution\n",
    "    return alignment[0]*evalProg(model,data)+alignment[1]"
   ]
  },
  {
   "cell_type": "markdown",
   "id": "00ac3bcf-b3e2-436f-84de-9636a53d9bbe",
   "metadata": {},
   "source": [
    "# Examples\n",
    "\n",
    "## Evolve using standard tournament selection"
   ]
  },
  {
   "cell_type": "code",
   "execution_count": 51,
   "id": "4e6da077-0a34-4eef-89b1-5e69f4b9c292",
   "metadata": {},
   "outputs": [
    {
     "data": {
      "image/png": "[encoded data removed]",
      "text/plain": [
       "<Figure size 432x288 with 1 Axes>"
      ]
     },
     "metadata": {
      "needs_background": "light"
     },
     "output_type": "display_data"
    }
   ],
   "source": [
    "best,pop=evolve(data,response)"
   ]
  },
  {
   "cell_type": "code",
   "execution_count": 52,
   "id": "c8bc0eb6-d747-46ae-b8d1-59ca9e72919d",
   "metadata": {},
   "outputs": [
    {
     "name": "stdout",
     "output_type": "stream",
     "text": [
      "0.2153192007133783\n"
     ]
    }
   ],
   "source": [
    "print(fitness(best,data,response))"
   ]
  },
  {
   "cell_type": "code",
   "execution_count": 53,
   "id": "8a5b0043-352e-4c80-8b26-147b287fc59d",
   "metadata": {},
   "outputs": [
    {
     "data": {
      "text/plain": [
       "<matplotlib.collections.PathCollection at 0x7f9c101a2e80>"
      ]
     },
     "execution_count": 53,
     "metadata": {},
     "output_type": "execute_result"
    },
    {
     "data": {
      "image/png": "[encoded data removed]",
      "text/plain": [
       "<Figure size 432x288 with 1 Axes>"
      ]
     },
     "metadata": {
      "needs_background": "light"
     },
     "output_type": "display_data"
    }
   ],
   "source": [
    "align=alignModel(best,data,response)\n",
    "plt.scatter(data,response)\n",
    "plt.scatter(data,alignedEvalProg(best,data,align))"
   ]
  },
  {
   "cell_type": "markdown",
   "id": "b762b1b8-c36b-44be-91c9-075c18baff7c",
   "metadata": {},
   "source": [
    "## Evolve using Pareto tournaments"
   ]
  },
  {
   "cell_type": "code",
   "execution_count": 36,
   "id": "cb16b85f-3fcb-43be-a794-2c6939be1927",
   "metadata": {},
   "outputs": [
    {
     "data": {
      "image/png": "[encoded data removed]",
      "text/plain": [
       "<Figure size 432x288 with 1 Axes>"
      ]
     },
     "metadata": {
      "needs_background": "light"
     },
     "output_type": "display_data"
    },
    {
     "name": "stdout",
     "output_type": "stream",
     "text": [
      "0.08694387923789137\n"
     ]
    }
   ],
   "source": [
    "best,pop=paretoEvolve(data,response,generations=600)\n",
    "print(fitness(best,data,response))"
   ]
  },
  {
   "cell_type": "code",
   "execution_count": 37,
   "id": "b3f5150c-c9cd-492f-90e0-c70e71312430",
   "metadata": {},
   "outputs": [
    {
     "data": {
      "text/plain": [
       "<matplotlib.collections.PathCollection at 0x7f9c204ac700>"
      ]
     },
     "execution_count": 37,
     "metadata": {},
     "output_type": "execute_result"
    },
    {
     "data": {
      "image/png": "[encoded data removed]",
      "text/plain": [
       "<Figure size 432x288 with 1 Axes>"
      ]
     },
     "metadata": {
      "needs_background": "light"
     },
     "output_type": "display_data"
    }
   ],
   "source": [
    "align=alignModel(best,data,response)\n",
    "plt.scatter(data,response)\n",
    "plt.scatter(data,alignedEvalProg(best,data,align))"
   ]
  },
  {
   "cell_type": "code",
   "execution_count": 38,
   "id": "83ea0e73-45fd-416b-9aa3-b498469ca933",
   "metadata": {},
   "outputs": [
    {
     "data": {
      "text/plain": [
       "643"
      ]
     },
     "execution_count": 38,
     "metadata": {},
     "output_type": "execute_result"
    }
   ],
   "source": [
    "len(best)"
   ]
  },
  {
   "cell_type": "code",
   "execution_count": 39,
   "id": "17b8724b-28da-4ef6-a3d1-45bf67df7d50",
   "metadata": {},
   "outputs": [
    {
     "data": {
      "image/png": "[encoded data removed]",
      "text/plain": [
       "<Figure size 432x288 with 1 Axes>"
      ]
     },
     "metadata": {
      "needs_background": "light"
     },
     "output_type": "display_data"
    },
    {
     "name": "stdout",
     "output_type": "stream",
     "text": [
      "0.03918306124265747\n"
     ]
    },
    {
     "data": {
      "text/plain": [
       "<matplotlib.collections.PathCollection at 0x7f9c11257f10>"
      ]
     },
     "execution_count": 39,
     "metadata": {},
     "output_type": "execute_result"
    },
    {
     "data": {
      "image/png": "[encoded data removed]",
      "text/plain": [
       "<Figure size 432x288 with 1 Axes>"
      ]
     },
     "metadata": {
      "needs_background": "light"
     },
     "output_type": "display_data"
    }
   ],
   "source": [
    "best,pop=paretoEvolve(data,response,generations=1200)\n",
    "print(fitness(best,data,response))\n",
    "align=alignModel(best,data,response)\n",
    "plt.scatter(data,response)\n",
    "plt.scatter(data,alignedEvalProg(best,data,align))"
   ]
  },
  {
   "cell_type": "code",
   "execution_count": 54,
   "id": "9ebf6b1c-1091-477e-9ec6-0d439a22b1a1",
   "metadata": {},
   "outputs": [
    {
     "data": {
      "image/png": "[encoded data removed]",
      "text/plain": [
       "<Figure size 432x288 with 1 Axes>"
      ]
     },
     "metadata": {
      "needs_background": "light"
     },
     "output_type": "display_data"
    },
    {
     "name": "stdout",
     "output_type": "stream",
     "text": [
      "0.1512887072650766\n"
     ]
    },
    {
     "data": {
      "text/plain": [
       "<matplotlib.collections.PathCollection at 0x7f9c11b80190>"
      ]
     },
     "execution_count": 54,
     "metadata": {},
     "output_type": "execute_result"
    },
    {
     "data": {
      "image/png": "[encoded data removed]",
      "text/plain": [
       "<Figure size 432x288 with 1 Axes>"
      ]
     },
     "metadata": {
      "needs_background": "light"
     },
     "output_type": "display_data"
    }
   ],
   "source": [
    "best,pop=paretoEvolve(data,response,generations=2000)\n",
    "print(fitness(best,data,response))\n",
    "align=alignModel(best,data,response)\n",
    "plt.scatter(data,response)\n",
    "plt.scatter(data,alignedEvalProg(best,data,align))"
   ]
  },
  {
   "cell_type": "code",
   "execution_count": null,
   "id": "3fc35aeb-f5de-4bbf-9b88-e0fe0f84c0c0",
   "metadata": {},
   "outputs": [],
   "source": []
  }
 ],
 "metadata": {
  "kernelspec": {
   "display_name": "Python 3 (ipykernel)",
   "language": "python",
   "name": "python3"
  },
  "language_info": {
   "codemirror_mode": {
    "name": "ipython",
    "version": 3
   },
   "file_extension": ".py",
   "mimetype": "text/x-python",
   "name": "python",
   "nbconvert_exporter": "python",
   "pygments_lexer": "ipython3",
   "version": "3.8.12"
  }
 },
 "nbformat": 4,
 "nbformat_minor": 5
}
